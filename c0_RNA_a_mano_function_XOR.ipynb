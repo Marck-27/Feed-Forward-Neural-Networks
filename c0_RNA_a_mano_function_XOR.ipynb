{
 "metadata": {
  "language_info": {
   "codemirror_mode": {
    "name": "ipython",
    "version": 3
   },
   "file_extension": ".py",
   "mimetype": "text/x-python",
   "name": "python",
   "nbconvert_exporter": "python",
   "pygments_lexer": "ipython3",
   "version": "3.8.5"
  },
  "orig_nbformat": 2,
  "kernelspec": {
   "name": "python3",
   "display_name": "Python 3.8.5 64-bit"
  },
  "metadata": {
   "interpreter": {
    "hash": "31f2aee4e71d21fbe5cf8b01ff0e069b9275f58929596ceb00d14d90e3e16cd6"
   }
  },
  "interpreter": {
   "hash": "31f2aee4e71d21fbe5cf8b01ff0e069b9275f58929596ceb00d14d90e3e16cd6"
  }
 },
 "nbformat": 4,
 "nbformat_minor": 2,
 "cells": [
  {
   "source": [
    "## El presente código muestra la estructura interna de una red neuronal artificial \n",
    "\n",
    "## simple de dos capas para predecir los valores de la función 'XOR'\n",
    "\n",
    "### Se muestra explícitamente el proceso de \"Forward propagation\" y \"Backward propagation\"\n",
    "\n",
    "### para calcular el gradiente de la función de costo.\n",
    "\n",
    "### Para minimizar la función de costo usamos un optimizador de gradiente descendiente"
   ],
   "cell_type": "markdown",
   "metadata": {}
  },
  {
   "cell_type": "code",
   "execution_count": 1,
   "metadata": {},
   "outputs": [],
   "source": [
    "import numpy as np \n",
    "\n",
    "import matplotlib.pyplot as plt "
   ]
  },
  {
   "cell_type": "code",
   "execution_count": 2,
   "metadata": {},
   "outputs": [],
   "source": [
    "# funciones de activación y sus derivadas:\n",
    "\n",
    "# función sigmoide y su derivada:\n",
    "def f_sigmoide(x, derivate = False):\n",
    "    if derivate:\n",
    "        return np.exp(-x)/( (1+np.exp(-x))**2 )\n",
    "    else:       \n",
    "        return 1/(1+ np.exp(-x))\n",
    "\n",
    "# función 'relu' y su derivada:\n",
    "def f_relu(x, derivate = False):\n",
    "    if derivate:\n",
    "        x[x<=0] = 0\n",
    "        x[x>0] = 1\n",
    "        return x\n",
    "    else:\n",
    "        x[x<=0] = 0\n",
    "        x[x>0] = x[x>0]\n",
    "        return x\n",
    "\n",
    "# función de costo y su derivada:\n",
    "def Loss(y_aprx , y_obs, derivate = False):\n",
    "    if derivate:\n",
    "        N = len(y_obs)\n",
    "        return (2/N)*(y_aprx - y_obs)\n",
    "    else:\n",
    "        # Error cuadrático medio:\n",
    "        return np.mean( (y_aprx - y_obs)**2 )"
   ]
  },
  {
   "cell_type": "code",
   "execution_count": 3,
   "metadata": {},
   "outputs": [
    {
     "output_type": "stream",
     "name": "stdout",
     "text": [
      "Features: \n [[0 0]\n [0 1]\n [1 0]\n [1 1]]\n\nLabels: \n [[0 1]\n [1 0]\n [1 0]\n [0 1]]\n"
     ]
    }
   ],
   "source": [
    "# Construimos features:\n",
    "features = np.array([ [0,0], [0,1], [1,0], [1,1] ])\n",
    "\n",
    "# Construimos labels (codificados):\n",
    "cero = [1,0] # <-- \"cero\"\n",
    "uno = [0,1] # <-- \"uno\"\n",
    "labels = np.array([uno , cero , cero , uno])\n",
    "\n",
    "print('Features: \\n',features )\n",
    "print('\\nLabels: \\n',labels )"
   ]
  },
  {
   "cell_type": "code",
   "execution_count": 4,
   "metadata": {},
   "outputs": [],
   "source": [
    "# Seleccionamos conjunto de entrenamiento:\n",
    "N = 4\n",
    "x_train = features[0:N , :]\n",
    "y_train = labels[0:N , :]"
   ]
  },
  {
   "cell_type": "code",
   "execution_count": 5,
   "metadata": {},
   "outputs": [],
   "source": [
    "# Construimos una misma arquitectura de red para todos los features:\n",
    "\n",
    "# numero de componentes de cada feature\n",
    "k = x_train.shape[1]\n",
    "\n",
    "# numero de neuronas de la primer capa oculta\n",
    "n = 3\n",
    "\n",
    "# numero de neuronas de la capa de salida\n",
    "# es igual al numero de posibles labels a predecir\n",
    "m = 2 "
   ]
  },
  {
   "cell_type": "code",
   "execution_count": 6,
   "metadata": {},
   "outputs": [],
   "source": [
    "Ne = 200 # Numero de epochs\n",
    "Err = np.zeros(Ne)\n",
    "\n",
    "# Inicializamos matrices de pesos y sesgos para las 2 capas:\n",
    "W1 = np.random.rand(n,k)\n",
    "W2 = np.random.rand(m,n)\n",
    "b1 = np.random.rand(n)\n",
    "b2 = np.random.rand(m)\n",
    "\n",
    "# learning rates para pesos y sesgos:\n",
    "lr_W1 = 0.8\n",
    "lr_W2 = 0.8\n",
    "lr_b1 = 0.8\n",
    "lr_b2 = 0.8\n",
    "\n",
    "\n",
    "for epochs in range(Ne):\n",
    "    #print( '\\nEpoch: ', epochs)\n",
    "    Loss_i = 0\n",
    "    \n",
    "    # Recorremos cada uno de los datos de entrenamiento:\n",
    "    for i in range(N):\n",
    "        # *********************************************************************\n",
    "        # Forward propagation:\n",
    "        \n",
    "        # cargamos el i-esimo feature 'xi' y su respectivo label 'yi':\n",
    "        xi = x_train[i,:]\n",
    "        yi = y_train[i,:]\n",
    "\n",
    "        # Procesamiento de valores en la capa oculta:\n",
    "        z1 = np.dot(W1,xi) + b1\n",
    "        f1 = f_relu(z1)\n",
    "\n",
    "        # Procesamiento de valores en la capa de salida:\n",
    "        z2 = np.dot(W2,f1) + b2\n",
    "        f2 = f_sigmoide(z2)# <-- label aproximado (predicción de la red)\n",
    "\n",
    "        # Evaluación de la función de costo:\n",
    "        Loss_i = (1/N)*Loss(f2,yi) + Loss_i                \n",
    "\n",
    "        # *********************************************************************\n",
    "        # Backward propagation:\n",
    "        \n",
    "        # -----------------------------------------------------\n",
    "        Df2_Loss = Loss(f2 , yi, derivate = True).reshape(m,1)\n",
    "        Dz2_f2 = f_sigmoide(z2, derivate = True).reshape(m,1)        \n",
    "\n",
    "        # Derivada con respecto a 'W2'\n",
    "        DW2_z2 = f1.reshape(1,n)\n",
    "        DW2_Loss = np.dot( (Df2_Loss*Dz2_f2) , DW2_z2)\n",
    "\n",
    "        # Derivada con respecto a 'b2'\n",
    "        Db2_Loss = (Df2_Loss*Dz2_f2).reshape(b2.shape)\n",
    "\n",
    "        # -----------------------------------------------------\n",
    "        Df1_Loss = np.dot( (Df2_Loss.reshape(1,m)*Dz2_f2.reshape(1,m)) , W2 )\n",
    "        Df1_Loss = Df1_Loss.reshape(n,1)\n",
    "        Dz1_f1 = f_relu(z1, derivate = True).reshape(n,1)        \n",
    "\n",
    "        # Derivada con respecto a 'W1'\n",
    "        DW1_z1 = xi.reshape(1,k)\n",
    "        DW1_Loss = np.dot( (Df1_Loss*Dz1_f1) , DW1_z1)\n",
    "\n",
    "        # Derivada con respecto a 'b1'\n",
    "        Db1_Loss = (Df1_Loss*Dz1_f1).reshape(b1.shape)\n",
    "\n",
    "        # *********************************************************************\n",
    "        # actualizamos pesos y sesgos con descenso de gradiente:\n",
    "        W1 = W1 - lr_W1 * DW1_Loss\n",
    "        W2 = W2 - lr_W2 * DW2_Loss\n",
    "        b1 = b1 - lr_b1 * Db1_Loss\n",
    "        b2 = b2 - lr_b2 * Db2_Loss\n",
    "\n",
    "    Err[epochs] = Loss_i\n",
    "    #print( '\\nLoss: ', Loss_i)"
   ]
  },
  {
   "cell_type": "code",
   "execution_count": 7,
   "metadata": {},
   "outputs": [
    {
     "output_type": "display_data",
     "data": {
      "text/plain": "<Figure size 432x288 with 1 Axes>",
      "image/svg+xml": "<?xml version=\"1.0\" encoding=\"utf-8\" standalone=\"no\"?>\n<!DOCTYPE svg PUBLIC \"-//W3C//DTD SVG 1.1//EN\"\n  \"http://www.w3.org/Graphics/SVG/1.1/DTD/svg11.dtd\">\n<svg height=\"277.314375pt\" version=\"1.1\" viewBox=\"0 0 378.465625 277.314375\" width=\"378.465625pt\" xmlns=\"http://www.w3.org/2000/svg\" xmlns:xlink=\"http://www.w3.org/1999/xlink\">\n <metadata>\n  <rdf:RDF xmlns:cc=\"http://creativecommons.org/ns#\" xmlns:dc=\"http://purl.org/dc/elements/1.1/\" xmlns:rdf=\"http://www.w3.org/1999/02/22-rdf-syntax-ns#\">\n   <cc:Work>\n    <dc:type rdf:resource=\"http://purl.org/dc/dcmitype/StillImage\"/>\n    <dc:date>2021-06-30T14:30:17.456114</dc:date>\n    <dc:format>image/svg+xml</dc:format>\n    <dc:creator>\n     <cc:Agent>\n      <dc:title>Matplotlib v3.4.2, https://matplotlib.org/</dc:title>\n     </cc:Agent>\n    </dc:creator>\n   </cc:Work>\n  </rdf:RDF>\n </metadata>\n <defs>\n  <style type=\"text/css\">*{stroke-linecap:butt;stroke-linejoin:round;}</style>\n </defs>\n <g id=\"figure_1\">\n  <g id=\"patch_1\">\n   <path d=\"M 0 277.314375 \nL 378.465625 277.314375 \nL 378.465625 0 \nL 0 0 \nz\n\" style=\"fill:none;\"/>\n  </g>\n  <g id=\"axes_1\">\n   <g id=\"patch_2\">\n    <path d=\"M 36.465625 239.758125 \nL 371.265625 239.758125 \nL 371.265625 22.318125 \nL 36.465625 22.318125 \nz\n\" style=\"fill:#ffffff;\"/>\n   </g>\n   <g id=\"matplotlib.axis_1\">\n    <g id=\"xtick_1\">\n     <g id=\"line2d_1\">\n      <defs>\n       <path d=\"M 0 0 \nL 0 3.5 \n\" id=\"m324d272567\" style=\"stroke:#000000;stroke-width:0.8;\"/>\n      </defs>\n      <g>\n       <use style=\"stroke:#000000;stroke-width:0.8;\" x=\"51.683807\" xlink:href=\"#m324d272567\" y=\"239.758125\"/>\n      </g>\n     </g>\n     <g id=\"text_1\">\n      <!-- 0 -->\n      <g transform=\"translate(48.502557 254.356562)scale(0.1 -0.1)\">\n       <defs>\n        <path d=\"M 2034 4250 \nQ 1547 4250 1301 3770 \nQ 1056 3291 1056 2328 \nQ 1056 1369 1301 889 \nQ 1547 409 2034 409 \nQ 2525 409 2770 889 \nQ 3016 1369 3016 2328 \nQ 3016 3291 2770 3770 \nQ 2525 4250 2034 4250 \nz\nM 2034 4750 \nQ 2819 4750 3233 4129 \nQ 3647 3509 3647 2328 \nQ 3647 1150 3233 529 \nQ 2819 -91 2034 -91 \nQ 1250 -91 836 529 \nQ 422 1150 422 2328 \nQ 422 3509 836 4129 \nQ 1250 4750 2034 4750 \nz\n\" id=\"DejaVuSans-30\" transform=\"scale(0.015625)\"/>\n       </defs>\n       <use xlink:href=\"#DejaVuSans-30\"/>\n      </g>\n     </g>\n    </g>\n    <g id=\"xtick_2\">\n     <g id=\"line2d_2\">\n      <g>\n       <use style=\"stroke:#000000;stroke-width:0.8;\" x=\"89.920445\" xlink:href=\"#m324d272567\" y=\"239.758125\"/>\n      </g>\n     </g>\n     <g id=\"text_2\">\n      <!-- 25 -->\n      <g transform=\"translate(83.557945 254.356562)scale(0.1 -0.1)\">\n       <defs>\n        <path d=\"M 1228 531 \nL 3431 531 \nL 3431 0 \nL 469 0 \nL 469 531 \nQ 828 903 1448 1529 \nQ 2069 2156 2228 2338 \nQ 2531 2678 2651 2914 \nQ 2772 3150 2772 3378 \nQ 2772 3750 2511 3984 \nQ 2250 4219 1831 4219 \nQ 1534 4219 1204 4116 \nQ 875 4013 500 3803 \nL 500 4441 \nQ 881 4594 1212 4672 \nQ 1544 4750 1819 4750 \nQ 2544 4750 2975 4387 \nQ 3406 4025 3406 3419 \nQ 3406 3131 3298 2873 \nQ 3191 2616 2906 2266 \nQ 2828 2175 2409 1742 \nQ 1991 1309 1228 531 \nz\n\" id=\"DejaVuSans-32\" transform=\"scale(0.015625)\"/>\n        <path d=\"M 691 4666 \nL 3169 4666 \nL 3169 4134 \nL 1269 4134 \nL 1269 2991 \nQ 1406 3038 1543 3061 \nQ 1681 3084 1819 3084 \nQ 2600 3084 3056 2656 \nQ 3513 2228 3513 1497 \nQ 3513 744 3044 326 \nQ 2575 -91 1722 -91 \nQ 1428 -91 1123 -41 \nQ 819 9 494 109 \nL 494 744 \nQ 775 591 1075 516 \nQ 1375 441 1709 441 \nQ 2250 441 2565 725 \nQ 2881 1009 2881 1497 \nQ 2881 1984 2565 2268 \nQ 2250 2553 1709 2553 \nQ 1456 2553 1204 2497 \nQ 953 2441 691 2322 \nL 691 4666 \nz\n\" id=\"DejaVuSans-35\" transform=\"scale(0.015625)\"/>\n       </defs>\n       <use xlink:href=\"#DejaVuSans-32\"/>\n       <use x=\"63.623047\" xlink:href=\"#DejaVuSans-35\"/>\n      </g>\n     </g>\n    </g>\n    <g id=\"xtick_3\">\n     <g id=\"line2d_3\">\n      <g>\n       <use style=\"stroke:#000000;stroke-width:0.8;\" x=\"128.157082\" xlink:href=\"#m324d272567\" y=\"239.758125\"/>\n      </g>\n     </g>\n     <g id=\"text_3\">\n      <!-- 50 -->\n      <g transform=\"translate(121.794582 254.356562)scale(0.1 -0.1)\">\n       <use xlink:href=\"#DejaVuSans-35\"/>\n       <use x=\"63.623047\" xlink:href=\"#DejaVuSans-30\"/>\n      </g>\n     </g>\n    </g>\n    <g id=\"xtick_4\">\n     <g id=\"line2d_4\">\n      <g>\n       <use style=\"stroke:#000000;stroke-width:0.8;\" x=\"166.39372\" xlink:href=\"#m324d272567\" y=\"239.758125\"/>\n      </g>\n     </g>\n     <g id=\"text_4\">\n      <!-- 75 -->\n      <g transform=\"translate(160.03122 254.356562)scale(0.1 -0.1)\">\n       <defs>\n        <path d=\"M 525 4666 \nL 3525 4666 \nL 3525 4397 \nL 1831 0 \nL 1172 0 \nL 2766 4134 \nL 525 4134 \nL 525 4666 \nz\n\" id=\"DejaVuSans-37\" transform=\"scale(0.015625)\"/>\n       </defs>\n       <use xlink:href=\"#DejaVuSans-37\"/>\n       <use x=\"63.623047\" xlink:href=\"#DejaVuSans-35\"/>\n      </g>\n     </g>\n    </g>\n    <g id=\"xtick_5\">\n     <g id=\"line2d_5\">\n      <g>\n       <use style=\"stroke:#000000;stroke-width:0.8;\" x=\"204.630358\" xlink:href=\"#m324d272567\" y=\"239.758125\"/>\n      </g>\n     </g>\n     <g id=\"text_5\">\n      <!-- 100 -->\n      <g transform=\"translate(195.086608 254.356562)scale(0.1 -0.1)\">\n       <defs>\n        <path d=\"M 794 531 \nL 1825 531 \nL 1825 4091 \nL 703 3866 \nL 703 4441 \nL 1819 4666 \nL 2450 4666 \nL 2450 531 \nL 3481 531 \nL 3481 0 \nL 794 0 \nL 794 531 \nz\n\" id=\"DejaVuSans-31\" transform=\"scale(0.015625)\"/>\n       </defs>\n       <use xlink:href=\"#DejaVuSans-31\"/>\n       <use x=\"63.623047\" xlink:href=\"#DejaVuSans-30\"/>\n       <use x=\"127.246094\" xlink:href=\"#DejaVuSans-30\"/>\n      </g>\n     </g>\n    </g>\n    <g id=\"xtick_6\">\n     <g id=\"line2d_6\">\n      <g>\n       <use style=\"stroke:#000000;stroke-width:0.8;\" x=\"242.866995\" xlink:href=\"#m324d272567\" y=\"239.758125\"/>\n      </g>\n     </g>\n     <g id=\"text_6\">\n      <!-- 125 -->\n      <g transform=\"translate(233.323245 254.356562)scale(0.1 -0.1)\">\n       <use xlink:href=\"#DejaVuSans-31\"/>\n       <use x=\"63.623047\" xlink:href=\"#DejaVuSans-32\"/>\n       <use x=\"127.246094\" xlink:href=\"#DejaVuSans-35\"/>\n      </g>\n     </g>\n    </g>\n    <g id=\"xtick_7\">\n     <g id=\"line2d_7\">\n      <g>\n       <use style=\"stroke:#000000;stroke-width:0.8;\" x=\"281.103633\" xlink:href=\"#m324d272567\" y=\"239.758125\"/>\n      </g>\n     </g>\n     <g id=\"text_7\">\n      <!-- 150 -->\n      <g transform=\"translate(271.559883 254.356562)scale(0.1 -0.1)\">\n       <use xlink:href=\"#DejaVuSans-31\"/>\n       <use x=\"63.623047\" xlink:href=\"#DejaVuSans-35\"/>\n       <use x=\"127.246094\" xlink:href=\"#DejaVuSans-30\"/>\n      </g>\n     </g>\n    </g>\n    <g id=\"xtick_8\">\n     <g id=\"line2d_8\">\n      <g>\n       <use style=\"stroke:#000000;stroke-width:0.8;\" x=\"319.340271\" xlink:href=\"#m324d272567\" y=\"239.758125\"/>\n      </g>\n     </g>\n     <g id=\"text_8\">\n      <!-- 175 -->\n      <g transform=\"translate(309.796521 254.356562)scale(0.1 -0.1)\">\n       <use xlink:href=\"#DejaVuSans-31\"/>\n       <use x=\"63.623047\" xlink:href=\"#DejaVuSans-37\"/>\n       <use x=\"127.246094\" xlink:href=\"#DejaVuSans-35\"/>\n      </g>\n     </g>\n    </g>\n    <g id=\"xtick_9\">\n     <g id=\"line2d_9\">\n      <g>\n       <use style=\"stroke:#000000;stroke-width:0.8;\" x=\"357.576909\" xlink:href=\"#m324d272567\" y=\"239.758125\"/>\n      </g>\n     </g>\n     <g id=\"text_9\">\n      <!-- 200 -->\n      <g transform=\"translate(348.033159 254.356562)scale(0.1 -0.1)\">\n       <use xlink:href=\"#DejaVuSans-32\"/>\n       <use x=\"63.623047\" xlink:href=\"#DejaVuSans-30\"/>\n       <use x=\"127.246094\" xlink:href=\"#DejaVuSans-30\"/>\n      </g>\n     </g>\n    </g>\n    <g id=\"text_10\">\n     <!-- epochs -->\n     <g transform=\"translate(186.032813 268.034687)scale(0.1 -0.1)\">\n      <defs>\n       <path d=\"M 3597 1894 \nL 3597 1613 \nL 953 1613 \nQ 991 1019 1311 708 \nQ 1631 397 2203 397 \nQ 2534 397 2845 478 \nQ 3156 559 3463 722 \nL 3463 178 \nQ 3153 47 2828 -22 \nQ 2503 -91 2169 -91 \nQ 1331 -91 842 396 \nQ 353 884 353 1716 \nQ 353 2575 817 3079 \nQ 1281 3584 2069 3584 \nQ 2775 3584 3186 3129 \nQ 3597 2675 3597 1894 \nz\nM 3022 2063 \nQ 3016 2534 2758 2815 \nQ 2500 3097 2075 3097 \nQ 1594 3097 1305 2825 \nQ 1016 2553 972 2059 \nL 3022 2063 \nz\n\" id=\"DejaVuSans-65\" transform=\"scale(0.015625)\"/>\n       <path d=\"M 1159 525 \nL 1159 -1331 \nL 581 -1331 \nL 581 3500 \nL 1159 3500 \nL 1159 2969 \nQ 1341 3281 1617 3432 \nQ 1894 3584 2278 3584 \nQ 2916 3584 3314 3078 \nQ 3713 2572 3713 1747 \nQ 3713 922 3314 415 \nQ 2916 -91 2278 -91 \nQ 1894 -91 1617 61 \nQ 1341 213 1159 525 \nz\nM 3116 1747 \nQ 3116 2381 2855 2742 \nQ 2594 3103 2138 3103 \nQ 1681 3103 1420 2742 \nQ 1159 2381 1159 1747 \nQ 1159 1113 1420 752 \nQ 1681 391 2138 391 \nQ 2594 391 2855 752 \nQ 3116 1113 3116 1747 \nz\n\" id=\"DejaVuSans-70\" transform=\"scale(0.015625)\"/>\n       <path d=\"M 1959 3097 \nQ 1497 3097 1228 2736 \nQ 959 2375 959 1747 \nQ 959 1119 1226 758 \nQ 1494 397 1959 397 \nQ 2419 397 2687 759 \nQ 2956 1122 2956 1747 \nQ 2956 2369 2687 2733 \nQ 2419 3097 1959 3097 \nz\nM 1959 3584 \nQ 2709 3584 3137 3096 \nQ 3566 2609 3566 1747 \nQ 3566 888 3137 398 \nQ 2709 -91 1959 -91 \nQ 1206 -91 779 398 \nQ 353 888 353 1747 \nQ 353 2609 779 3096 \nQ 1206 3584 1959 3584 \nz\n\" id=\"DejaVuSans-6f\" transform=\"scale(0.015625)\"/>\n       <path d=\"M 3122 3366 \nL 3122 2828 \nQ 2878 2963 2633 3030 \nQ 2388 3097 2138 3097 \nQ 1578 3097 1268 2742 \nQ 959 2388 959 1747 \nQ 959 1106 1268 751 \nQ 1578 397 2138 397 \nQ 2388 397 2633 464 \nQ 2878 531 3122 666 \nL 3122 134 \nQ 2881 22 2623 -34 \nQ 2366 -91 2075 -91 \nQ 1284 -91 818 406 \nQ 353 903 353 1747 \nQ 353 2603 823 3093 \nQ 1294 3584 2113 3584 \nQ 2378 3584 2631 3529 \nQ 2884 3475 3122 3366 \nz\n\" id=\"DejaVuSans-63\" transform=\"scale(0.015625)\"/>\n       <path d=\"M 3513 2113 \nL 3513 0 \nL 2938 0 \nL 2938 2094 \nQ 2938 2591 2744 2837 \nQ 2550 3084 2163 3084 \nQ 1697 3084 1428 2787 \nQ 1159 2491 1159 1978 \nL 1159 0 \nL 581 0 \nL 581 4863 \nL 1159 4863 \nL 1159 2956 \nQ 1366 3272 1645 3428 \nQ 1925 3584 2291 3584 \nQ 2894 3584 3203 3211 \nQ 3513 2838 3513 2113 \nz\n\" id=\"DejaVuSans-68\" transform=\"scale(0.015625)\"/>\n       <path d=\"M 2834 3397 \nL 2834 2853 \nQ 2591 2978 2328 3040 \nQ 2066 3103 1784 3103 \nQ 1356 3103 1142 2972 \nQ 928 2841 928 2578 \nQ 928 2378 1081 2264 \nQ 1234 2150 1697 2047 \nL 1894 2003 \nQ 2506 1872 2764 1633 \nQ 3022 1394 3022 966 \nQ 3022 478 2636 193 \nQ 2250 -91 1575 -91 \nQ 1294 -91 989 -36 \nQ 684 19 347 128 \nL 347 722 \nQ 666 556 975 473 \nQ 1284 391 1588 391 \nQ 1994 391 2212 530 \nQ 2431 669 2431 922 \nQ 2431 1156 2273 1281 \nQ 2116 1406 1581 1522 \nL 1381 1569 \nQ 847 1681 609 1914 \nQ 372 2147 372 2553 \nQ 372 3047 722 3315 \nQ 1072 3584 1716 3584 \nQ 2034 3584 2315 3537 \nQ 2597 3491 2834 3397 \nz\n\" id=\"DejaVuSans-73\" transform=\"scale(0.015625)\"/>\n      </defs>\n      <use xlink:href=\"#DejaVuSans-65\"/>\n      <use x=\"61.523438\" xlink:href=\"#DejaVuSans-70\"/>\n      <use x=\"125\" xlink:href=\"#DejaVuSans-6f\"/>\n      <use x=\"186.181641\" xlink:href=\"#DejaVuSans-63\"/>\n      <use x=\"241.162109\" xlink:href=\"#DejaVuSans-68\"/>\n      <use x=\"304.541016\" xlink:href=\"#DejaVuSans-73\"/>\n     </g>\n    </g>\n   </g>\n   <g id=\"matplotlib.axis_2\">\n    <g id=\"ytick_1\">\n     <g id=\"line2d_10\">\n      <defs>\n       <path d=\"M 0 0 \nL -3.5 0 \n\" id=\"mae3210cfa1\" style=\"stroke:#000000;stroke-width:0.8;\"/>\n      </defs>\n      <g>\n       <use style=\"stroke:#000000;stroke-width:0.8;\" x=\"36.465625\" xlink:href=\"#mae3210cfa1\" y=\"232.697218\"/>\n      </g>\n     </g>\n     <g id=\"text_11\">\n      <!-- 0.00 -->\n      <g transform=\"translate(7.2 236.496437)scale(0.1 -0.1)\">\n       <defs>\n        <path d=\"M 684 794 \nL 1344 794 \nL 1344 0 \nL 684 0 \nL 684 794 \nz\n\" id=\"DejaVuSans-2e\" transform=\"scale(0.015625)\"/>\n       </defs>\n       <use xlink:href=\"#DejaVuSans-30\"/>\n       <use x=\"63.623047\" xlink:href=\"#DejaVuSans-2e\"/>\n       <use x=\"95.410156\" xlink:href=\"#DejaVuSans-30\"/>\n       <use x=\"159.033203\" xlink:href=\"#DejaVuSans-30\"/>\n      </g>\n     </g>\n    </g>\n    <g id=\"ytick_2\">\n     <g id=\"line2d_11\">\n      <g>\n       <use style=\"stroke:#000000;stroke-width:0.8;\" x=\"36.465625\" xlink:href=\"#mae3210cfa1\" y=\"203.523941\"/>\n      </g>\n     </g>\n     <g id=\"text_12\">\n      <!-- 0.05 -->\n      <g transform=\"translate(7.2 207.32316)scale(0.1 -0.1)\">\n       <use xlink:href=\"#DejaVuSans-30\"/>\n       <use x=\"63.623047\" xlink:href=\"#DejaVuSans-2e\"/>\n       <use x=\"95.410156\" xlink:href=\"#DejaVuSans-30\"/>\n       <use x=\"159.033203\" xlink:href=\"#DejaVuSans-35\"/>\n      </g>\n     </g>\n    </g>\n    <g id=\"ytick_3\">\n     <g id=\"line2d_12\">\n      <g>\n       <use style=\"stroke:#000000;stroke-width:0.8;\" x=\"36.465625\" xlink:href=\"#mae3210cfa1\" y=\"174.350665\"/>\n      </g>\n     </g>\n     <g id=\"text_13\">\n      <!-- 0.10 -->\n      <g transform=\"translate(7.2 178.149883)scale(0.1 -0.1)\">\n       <use xlink:href=\"#DejaVuSans-30\"/>\n       <use x=\"63.623047\" xlink:href=\"#DejaVuSans-2e\"/>\n       <use x=\"95.410156\" xlink:href=\"#DejaVuSans-31\"/>\n       <use x=\"159.033203\" xlink:href=\"#DejaVuSans-30\"/>\n      </g>\n     </g>\n    </g>\n    <g id=\"ytick_4\">\n     <g id=\"line2d_13\">\n      <g>\n       <use style=\"stroke:#000000;stroke-width:0.8;\" x=\"36.465625\" xlink:href=\"#mae3210cfa1\" y=\"145.177388\"/>\n      </g>\n     </g>\n     <g id=\"text_14\">\n      <!-- 0.15 -->\n      <g transform=\"translate(7.2 148.976607)scale(0.1 -0.1)\">\n       <use xlink:href=\"#DejaVuSans-30\"/>\n       <use x=\"63.623047\" xlink:href=\"#DejaVuSans-2e\"/>\n       <use x=\"95.410156\" xlink:href=\"#DejaVuSans-31\"/>\n       <use x=\"159.033203\" xlink:href=\"#DejaVuSans-35\"/>\n      </g>\n     </g>\n    </g>\n    <g id=\"ytick_5\">\n     <g id=\"line2d_14\">\n      <g>\n       <use style=\"stroke:#000000;stroke-width:0.8;\" x=\"36.465625\" xlink:href=\"#mae3210cfa1\" y=\"116.004111\"/>\n      </g>\n     </g>\n     <g id=\"text_15\">\n      <!-- 0.20 -->\n      <g transform=\"translate(7.2 119.80333)scale(0.1 -0.1)\">\n       <use xlink:href=\"#DejaVuSans-30\"/>\n       <use x=\"63.623047\" xlink:href=\"#DejaVuSans-2e\"/>\n       <use x=\"95.410156\" xlink:href=\"#DejaVuSans-32\"/>\n       <use x=\"159.033203\" xlink:href=\"#DejaVuSans-30\"/>\n      </g>\n     </g>\n    </g>\n    <g id=\"ytick_6\">\n     <g id=\"line2d_15\">\n      <g>\n       <use style=\"stroke:#000000;stroke-width:0.8;\" x=\"36.465625\" xlink:href=\"#mae3210cfa1\" y=\"86.830835\"/>\n      </g>\n     </g>\n     <g id=\"text_16\">\n      <!-- 0.25 -->\n      <g transform=\"translate(7.2 90.630053)scale(0.1 -0.1)\">\n       <use xlink:href=\"#DejaVuSans-30\"/>\n       <use x=\"63.623047\" xlink:href=\"#DejaVuSans-2e\"/>\n       <use x=\"95.410156\" xlink:href=\"#DejaVuSans-32\"/>\n       <use x=\"159.033203\" xlink:href=\"#DejaVuSans-35\"/>\n      </g>\n     </g>\n    </g>\n    <g id=\"ytick_7\">\n     <g id=\"line2d_16\">\n      <g>\n       <use style=\"stroke:#000000;stroke-width:0.8;\" x=\"36.465625\" xlink:href=\"#mae3210cfa1\" y=\"57.657558\"/>\n      </g>\n     </g>\n     <g id=\"text_17\">\n      <!-- 0.30 -->\n      <g transform=\"translate(7.2 61.456777)scale(0.1 -0.1)\">\n       <defs>\n        <path d=\"M 2597 2516 \nQ 3050 2419 3304 2112 \nQ 3559 1806 3559 1356 \nQ 3559 666 3084 287 \nQ 2609 -91 1734 -91 \nQ 1441 -91 1130 -33 \nQ 819 25 488 141 \nL 488 750 \nQ 750 597 1062 519 \nQ 1375 441 1716 441 \nQ 2309 441 2620 675 \nQ 2931 909 2931 1356 \nQ 2931 1769 2642 2001 \nQ 2353 2234 1838 2234 \nL 1294 2234 \nL 1294 2753 \nL 1863 2753 \nQ 2328 2753 2575 2939 \nQ 2822 3125 2822 3475 \nQ 2822 3834 2567 4026 \nQ 2313 4219 1838 4219 \nQ 1578 4219 1281 4162 \nQ 984 4106 628 3988 \nL 628 4550 \nQ 988 4650 1302 4700 \nQ 1616 4750 1894 4750 \nQ 2613 4750 3031 4423 \nQ 3450 4097 3450 3541 \nQ 3450 3153 3228 2886 \nQ 3006 2619 2597 2516 \nz\n\" id=\"DejaVuSans-33\" transform=\"scale(0.015625)\"/>\n       </defs>\n       <use xlink:href=\"#DejaVuSans-30\"/>\n       <use x=\"63.623047\" xlink:href=\"#DejaVuSans-2e\"/>\n       <use x=\"95.410156\" xlink:href=\"#DejaVuSans-33\"/>\n       <use x=\"159.033203\" xlink:href=\"#DejaVuSans-30\"/>\n      </g>\n     </g>\n    </g>\n    <g id=\"ytick_8\">\n     <g id=\"line2d_17\">\n      <g>\n       <use style=\"stroke:#000000;stroke-width:0.8;\" x=\"36.465625\" xlink:href=\"#mae3210cfa1\" y=\"28.484281\"/>\n      </g>\n     </g>\n     <g id=\"text_18\">\n      <!-- 0.35 -->\n      <g transform=\"translate(7.2 32.2835)scale(0.1 -0.1)\">\n       <use xlink:href=\"#DejaVuSans-30\"/>\n       <use x=\"63.623047\" xlink:href=\"#DejaVuSans-2e\"/>\n       <use x=\"95.410156\" xlink:href=\"#DejaVuSans-33\"/>\n       <use x=\"159.033203\" xlink:href=\"#DejaVuSans-35\"/>\n      </g>\n     </g>\n    </g>\n   </g>\n   <g id=\"line2d_18\">\n    <path clip-path=\"url(#p815b209829)\" d=\"M 51.683807 32.201761 \nL 53.213272 46.140168 \nL 54.742738 54.169195 \nL 56.272203 59.27272 \nL 57.801669 62.853795 \nL 59.331134 65.57112 \nL 60.8606 67.730699 \nL 62.390065 69.490407 \nL 63.919531 70.94443 \nL 65.448996 72.156117 \nL 66.978462 73.171552 \nL 68.507927 74.025875 \nL 71.566858 75.306357 \nL 74.625789 76.308349 \nL 79.214186 77.549873 \nL 82.273117 78.433476 \nL 86.861514 80.036958 \nL 88.390979 80.464766 \nL 92.979376 82.358429 \nL 94.508841 83.164747 \nL 96.038307 83.639421 \nL 99.097238 85.663693 \nL 100.626703 87.4149 \nL 102.156169 87.547814 \nL 105.2151 90.939789 \nL 106.744565 92.657403 \nL 108.274031 93.103777 \nL 109.803496 97.400147 \nL 111.332962 97.498505 \nL 112.862427 100.034135 \nL 114.391893 104.074229 \nL 115.921358 103.685934 \nL 117.450824 109.891242 \nL 118.980289 107.747327 \nL 120.509755 112.250974 \nL 122.03922 111.408059 \nL 123.568686 116.821085 \nL 125.098151 115.056496 \nL 126.627617 120.652153 \nL 128.157082 121.373044 \nL 129.686548 118.611587 \nL 131.216013 122.547369 \nL 132.745479 124.673381 \nL 134.274944 122.275131 \nL 135.80441 125.847976 \nL 137.333875 127.017795 \nL 138.863341 127.894422 \nL 140.392806 127.039935 \nL 141.922272 128.182674 \nL 143.451737 128.969668 \nL 144.981203 129.598766 \nL 146.510668 126.28821 \nL 148.040134 128.207506 \nL 151.099065 130.595659 \nL 152.62853 130.701922 \nL 155.687461 131.981155 \nL 157.216927 133.414187 \nL 158.746392 132.860655 \nL 160.275858 133.63528 \nL 161.805323 133.388776 \nL 163.334789 135.807066 \nL 164.864255 134.966669 \nL 166.39372 136.322877 \nL 167.923186 139.64797 \nL 169.452651 137.834488 \nL 170.982117 138.894101 \nL 172.511582 140.647068 \nL 174.041048 139.748775 \nL 175.570513 143.01996 \nL 177.099979 146.92785 \nL 178.629444 146.046852 \nL 180.15891 152.392087 \nL 181.688375 149.592751 \nL 183.217841 157.505407 \nL 184.747306 151.378447 \nL 186.276772 160.858822 \nL 187.806237 157.770882 \nL 190.865168 163.021228 \nL 192.394634 168.824645 \nL 195.453565 170.919626 \nL 196.98303 178.274581 \nL 198.512496 173.275101 \nL 200.041961 180.928102 \nL 201.571427 185.843788 \nL 203.100892 180.266222 \nL 204.630358 187.887029 \nL 206.159823 191.257695 \nL 207.689289 187.323306 \nL 209.218754 193.536607 \nL 210.74822 197.80101 \nL 212.277685 194.851891 \nL 213.807151 199.015671 \nL 215.336616 201.867494 \nL 216.866082 200.743252 \nL 218.395547 203.582427 \nL 219.925013 205.887118 \nL 221.454478 208.981422 \nL 222.983944 205.938557 \nL 224.513409 209.388477 \nL 226.042875 211.163137 \nL 227.57234 210.59423 \nL 229.101806 212.028781 \nL 230.631271 213.891586 \nL 232.160737 215.303017 \nL 233.690202 214.420806 \nL 235.219668 214.702465 \nL 236.749133 216.912518 \nL 238.278599 217.891911 \nL 239.808064 217.45272 \nL 241.33753 217.747325 \nL 242.866995 219.21644 \nL 244.396461 219.738893 \nL 245.925927 219.747763 \nL 247.455392 220.198928 \nL 248.984858 221.031667 \nL 250.514323 221.552674 \nL 253.573254 221.575473 \nL 255.10272 222.471398 \nL 256.632185 222.938411 \nL 258.161651 223.083818 \nL 259.691116 222.912452 \nL 261.220582 223.633197 \nL 262.750047 224.170496 \nL 264.279513 224.539072 \nL 265.808978 223.747742 \nL 267.338444 224.486107 \nL 270.397375 225.298124 \nL 273.456306 225.109698 \nL 274.985771 225.642951 \nL 278.044702 226.223842 \nL 279.574168 225.806033 \nL 281.103633 226.054509 \nL 282.633099 226.458993 \nL 285.69203 226.931126 \nL 287.221495 226.523332 \nL 291.809892 227.299548 \nL 294.868823 227.260593 \nL 296.398288 227.523989 \nL 297.927754 227.639862 \nL 299.457219 227.86779 \nL 300.986685 227.645949 \nL 307.104547 228.29995 \nL 308.634012 228.049277 \nL 314.751874 228.663131 \nL 316.28134 228.417583 \nL 320.869736 228.860637 \nL 323.928667 228.832086 \nL 328.517064 229.169763 \nL 330.04653 229.051383 \nL 336.164392 229.420937 \nL 337.693857 229.278613 \nL 343.811719 229.638313 \nL 345.341185 229.494258 \nL 351.459047 229.829847 \nL 352.988512 229.690506 \nL 356.047443 229.874489 \nL 356.047443 229.874489 \n\" style=\"fill:none;stroke:#1f77b4;stroke-linecap:square;stroke-width:1.5;\"/>\n   </g>\n   <g id=\"patch_3\">\n    <path d=\"M 36.465625 239.758125 \nL 36.465625 22.318125 \n\" style=\"fill:none;stroke:#000000;stroke-linecap:square;stroke-linejoin:miter;stroke-width:0.8;\"/>\n   </g>\n   <g id=\"patch_4\">\n    <path d=\"M 371.265625 239.758125 \nL 371.265625 22.318125 \n\" style=\"fill:none;stroke:#000000;stroke-linecap:square;stroke-linejoin:miter;stroke-width:0.8;\"/>\n   </g>\n   <g id=\"patch_5\">\n    <path d=\"M 36.465625 239.758125 \nL 371.265625 239.758125 \n\" style=\"fill:none;stroke:#000000;stroke-linecap:square;stroke-linejoin:miter;stroke-width:0.8;\"/>\n   </g>\n   <g id=\"patch_6\">\n    <path d=\"M 36.465625 22.318125 \nL 371.265625 22.318125 \n\" style=\"fill:none;stroke:#000000;stroke-linecap:square;stroke-linejoin:miter;stroke-width:0.8;\"/>\n   </g>\n   <g id=\"text_19\">\n    <!-- Loss -->\n    <g transform=\"translate(190.705 16.318125)scale(0.12 -0.12)\">\n     <defs>\n      <path d=\"M 628 4666 \nL 1259 4666 \nL 1259 531 \nL 3531 531 \nL 3531 0 \nL 628 0 \nL 628 4666 \nz\n\" id=\"DejaVuSans-4c\" transform=\"scale(0.015625)\"/>\n     </defs>\n     <use xlink:href=\"#DejaVuSans-4c\"/>\n     <use x=\"53.962891\" xlink:href=\"#DejaVuSans-6f\"/>\n     <use x=\"115.144531\" xlink:href=\"#DejaVuSans-73\"/>\n     <use x=\"167.244141\" xlink:href=\"#DejaVuSans-73\"/>\n    </g>\n   </g>\n  </g>\n </g>\n <defs>\n  <clipPath id=\"p815b209829\">\n   <rect height=\"217.44\" width=\"334.8\" x=\"36.465625\" y=\"22.318125\"/>\n  </clipPath>\n </defs>\n</svg>\n",
      "image/png": "[encoded data removed]"
     },
     "metadata": {
      "needs_background": "light"
     }
    }
   ],
   "source": [
    "plt.figure\n",
    "plt.plot(Err)\n",
    "plt.title('Loss')\n",
    "plt.xlabel('epochs')\n",
    "plt.show()"
   ]
  },
  {
   "cell_type": "code",
   "execution_count": 8,
   "metadata": {},
   "outputs": [
    {
     "output_type": "stream",
     "name": "stdout",
     "text": [
      "Pesos optimos:\n\nW1 = \n [[ 2.2409599  -2.11500969]\n [ 3.43039688 -3.44430837]\n [ 0.54691613 -0.54889167]]\n\nW2 = \n [[-2.34599473  3.23893227  0.49378275]\n [ 2.37501619 -3.28630233 -0.45658773]]\n\n\nSesgos optimos:\n\nb1 =  [ 2.08806885e+00 -8.42112819e-03 -1.45599246e-03]\n\nb2 =  [ 2.04345093 -2.06623813]\n"
     ]
    }
   ],
   "source": [
    "# matrices de pesos y sesgos optimos:\n",
    "print('Pesos optimos:')\n",
    "print('\\nW1 = \\n',W1)\n",
    "print('\\nW2 = \\n',W2)\n",
    "\n",
    "print('\\n\\nSesgos optimos:')\n",
    "print('\\nb1 = ',b1)\n",
    "print('\\nb2 = ',b2)"
   ]
  },
  {
   "cell_type": "code",
   "execution_count": 9,
   "metadata": {},
   "outputs": [
    {
     "output_type": "stream",
     "name": "stdout",
     "text": [
      "  Label esperado: [1, 0]\nLabel aproximado: [1. 0.]\n"
     ]
    }
   ],
   "source": [
    "# Predecimos el label de un feature dado:\n",
    "\n",
    "# Feature:\n",
    "xi = [0,1]\n",
    "\n",
    "# Label esperado:\n",
    "yi = cero\n",
    "\n",
    "# *********************************************************************\n",
    "# Hacemos Forward propagation para predecir label:\n",
    "\n",
    "# Procesamiento de valores en la capa oculta:\n",
    "z1 = np.dot(W1,xi) + b1\n",
    "f1 = f_relu(z1)\n",
    "\n",
    "# Procesamiento de valores en la capa de salida:\n",
    "z2 = np.dot(W2,f1) + b2\n",
    "f2 = np.round(f_sigmoide(z2)) # <-- label aproximado (predicción de la red)\n",
    "\n",
    "print('  Label esperado:', yi)\n",
    "print('Label aproximado:', f2)"
   ]
  },
  {
   "cell_type": "code",
   "execution_count": null,
   "metadata": {},
   "outputs": [],
   "source": []
  }
 ]
}